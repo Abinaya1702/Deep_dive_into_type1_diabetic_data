{
 "cells": [
  {
   "cell_type": "code",
   "execution_count": 11,
   "id": "460b89fb",
   "metadata": {},
   "outputs": [],
   "source": [
    "import pandas as pd"
   ]
  },
  {
   "cell_type": "code",
   "execution_count": 12,
   "id": "f61b132e",
   "metadata": {},
   "outputs": [],
   "source": [
    "df=pd.read_csv(r'Adamya 1 hr sheet(6.4.2019).csv')"
   ]
  },
  {
   "cell_type": "code",
   "execution_count": 13,
   "id": "5bf9086b",
   "metadata": {},
   "outputs": [
    {
     "data": {
      "text/html": [
       "<div>\n",
       "<style scoped>\n",
       "    .dataframe tbody tr th:only-of-type {\n",
       "        vertical-align: middle;\n",
       "    }\n",
       "\n",
       "    .dataframe tbody tr th {\n",
       "        vertical-align: top;\n",
       "    }\n",
       "\n",
       "    .dataframe thead th {\n",
       "        text-align: right;\n",
       "    }\n",
       "</style>\n",
       "<table border=\"1\" class=\"dataframe\">\n",
       "  <thead>\n",
       "    <tr style=\"text-align: right;\">\n",
       "      <th></th>\n",
       "      <th>Category</th>\n",
       "      <th>Date</th>\n",
       "      <th>Time</th>\n",
       "      <th>Carbs</th>\n",
       "      <th>Food taken</th>\n",
       "      <th>Respective Carbs</th>\n",
       "      <th>BG</th>\n",
       "      <th>BG after 1hr</th>\n",
       "      <th>Insulin</th>\n",
       "    </tr>\n",
       "  </thead>\n",
       "  <tbody>\n",
       "    <tr>\n",
       "      <th>0</th>\n",
       "      <td>Breakfast</td>\n",
       "      <td>1/2/2019</td>\n",
       "      <td>7:05</td>\n",
       "      <td>60.90</td>\n",
       "      <td>, Cornflakes[ Serving  Size= 100 g ] , indian...</td>\n",
       "      <td>,  84 * 0.25 ,  11.5 * 0.9 ,  8 * 0.3 ,  8 * ...</td>\n",
       "      <td>325</td>\n",
       "      <td>334</td>\n",
       "      <td>5.5</td>\n",
       "    </tr>\n",
       "    <tr>\n",
       "      <th>1</th>\n",
       "      <td>Breakfast</td>\n",
       "      <td>1/3/2019</td>\n",
       "      <td>6:55</td>\n",
       "      <td>33.40</td>\n",
       "      <td>, Indian Plain Parantha (Medium) - Minimal Oi...</td>\n",
       "      <td>,  24 * 1.25 ,  3.4 * 1.0</td>\n",
       "      <td>231</td>\n",
       "      <td>246</td>\n",
       "      <td>4.0</td>\n",
       "    </tr>\n",
       "    <tr>\n",
       "      <th>2</th>\n",
       "      <td>Breakfast</td>\n",
       "      <td>1/4/2019</td>\n",
       "      <td>6:40</td>\n",
       "      <td>46.75</td>\n",
       "      <td>, Buffalo Fresh Full Fat Milk[ Serving  Size=...</td>\n",
       "      <td>,  10 * 1.0 ,  23.1 * 0.5 ,  84 * 0.3</td>\n",
       "      <td>194</td>\n",
       "      <td>313</td>\n",
       "      <td>4.0</td>\n",
       "    </tr>\n",
       "    <tr>\n",
       "      <th>3</th>\n",
       "      <td>Breakfast</td>\n",
       "      <td>1/5/2019</td>\n",
       "      <td>6:44</td>\n",
       "      <td>102.00</td>\n",
       "      <td>, Indian Roti With Ghee[ Serving  Size=1 Roti...</td>\n",
       "      <td>,  21.5 * 2.0 , 59 * 1.0</td>\n",
       "      <td>107</td>\n",
       "      <td>145</td>\n",
       "      <td>4.0</td>\n",
       "    </tr>\n",
       "    <tr>\n",
       "      <th>4</th>\n",
       "      <td>Breakfast</td>\n",
       "      <td>2/2/2019</td>\n",
       "      <td>9:10</td>\n",
       "      <td>80.30</td>\n",
       "      <td>, Poha With Alu   Veg[ Serving  Size=1 katori...</td>\n",
       "      <td>,  49 * 1.5 ,  3.4 * 2.0</td>\n",
       "      <td>209</td>\n",
       "      <td>126</td>\n",
       "      <td>5.0</td>\n",
       "    </tr>\n",
       "  </tbody>\n",
       "</table>\n",
       "</div>"
      ],
      "text/plain": [
       "    Category      Date  Time   Carbs  \\\n",
       "0  Breakfast  1/2/2019  7:05   60.90   \n",
       "1  Breakfast  1/3/2019  6:55   33.40   \n",
       "2  Breakfast  1/4/2019  6:40   46.75   \n",
       "3  Breakfast  1/5/2019  6:44  102.00   \n",
       "4  Breakfast  2/2/2019  9:10   80.30   \n",
       "\n",
       "                                          Food taken  \\\n",
       "0   , Cornflakes[ Serving  Size= 100 g ] , indian...   \n",
       "1   , Indian Plain Parantha (Medium) - Minimal Oi...   \n",
       "2   , Buffalo Fresh Full Fat Milk[ Serving  Size=...   \n",
       "3   , Indian Roti With Ghee[ Serving  Size=1 Roti...   \n",
       "4   , Poha With Alu   Veg[ Serving  Size=1 katori...   \n",
       "\n",
       "                                    Respective Carbs   BG  BG after 1hr  \\\n",
       "0   ,  84 * 0.25 ,  11.5 * 0.9 ,  8 * 0.3 ,  8 * ...  325           334   \n",
       "1                          ,  24 * 1.25 ,  3.4 * 1.0  231           246   \n",
       "2              ,  10 * 1.0 ,  23.1 * 0.5 ,  84 * 0.3  194           313   \n",
       "3                           ,  21.5 * 2.0 , 59 * 1.0  107           145   \n",
       "4                           ,  49 * 1.5 ,  3.4 * 2.0  209           126   \n",
       "\n",
       "   Insulin  \n",
       "0      5.5  \n",
       "1      4.0  \n",
       "2      4.0  \n",
       "3      4.0  \n",
       "4      5.0  "
      ]
     },
     "execution_count": 13,
     "metadata": {},
     "output_type": "execute_result"
    }
   ],
   "source": [
    "df.head()"
   ]
  },
  {
   "cell_type": "code",
   "execution_count": 14,
   "id": "58cf4e97",
   "metadata": {},
   "outputs": [],
   "source": [
    "df_modified = pd.DataFrame({'Carbs': df['Carbs'],\n",
    "'Category':df['Category'],\n",
    "'BG': df['BG'],\n",
    "'BG after 2hrs': df['BG after 1hr'] ,\n",
    "'Insulin': df['Insulin'] })"
   ]
  },
  {
   "cell_type": "code",
   "execution_count": 15,
   "id": "ccc53c1a",
   "metadata": {},
   "outputs": [
    {
     "data": {
      "text/html": [
       "<div>\n",
       "<style scoped>\n",
       "    .dataframe tbody tr th:only-of-type {\n",
       "        vertical-align: middle;\n",
       "    }\n",
       "\n",
       "    .dataframe tbody tr th {\n",
       "        vertical-align: top;\n",
       "    }\n",
       "\n",
       "    .dataframe thead th {\n",
       "        text-align: right;\n",
       "    }\n",
       "</style>\n",
       "<table border=\"1\" class=\"dataframe\">\n",
       "  <thead>\n",
       "    <tr style=\"text-align: right;\">\n",
       "      <th></th>\n",
       "      <th>Carbs</th>\n",
       "      <th>Category</th>\n",
       "      <th>BG</th>\n",
       "      <th>BG after 2hrs</th>\n",
       "      <th>Insulin</th>\n",
       "    </tr>\n",
       "  </thead>\n",
       "  <tbody>\n",
       "    <tr>\n",
       "      <th>0</th>\n",
       "      <td>60.90</td>\n",
       "      <td>Breakfast</td>\n",
       "      <td>325</td>\n",
       "      <td>334</td>\n",
       "      <td>5.5</td>\n",
       "    </tr>\n",
       "    <tr>\n",
       "      <th>1</th>\n",
       "      <td>33.40</td>\n",
       "      <td>Breakfast</td>\n",
       "      <td>231</td>\n",
       "      <td>246</td>\n",
       "      <td>4.0</td>\n",
       "    </tr>\n",
       "    <tr>\n",
       "      <th>2</th>\n",
       "      <td>46.75</td>\n",
       "      <td>Breakfast</td>\n",
       "      <td>194</td>\n",
       "      <td>313</td>\n",
       "      <td>4.0</td>\n",
       "    </tr>\n",
       "    <tr>\n",
       "      <th>3</th>\n",
       "      <td>102.00</td>\n",
       "      <td>Breakfast</td>\n",
       "      <td>107</td>\n",
       "      <td>145</td>\n",
       "      <td>4.0</td>\n",
       "    </tr>\n",
       "    <tr>\n",
       "      <th>4</th>\n",
       "      <td>80.30</td>\n",
       "      <td>Breakfast</td>\n",
       "      <td>209</td>\n",
       "      <td>126</td>\n",
       "      <td>5.0</td>\n",
       "    </tr>\n",
       "  </tbody>\n",
       "</table>\n",
       "</div>"
      ],
      "text/plain": [
       "    Carbs   Category   BG  BG after 2hrs  Insulin\n",
       "0   60.90  Breakfast  325            334      5.5\n",
       "1   33.40  Breakfast  231            246      4.0\n",
       "2   46.75  Breakfast  194            313      4.0\n",
       "3  102.00  Breakfast  107            145      4.0\n",
       "4   80.30  Breakfast  209            126      5.0"
      ]
     },
     "execution_count": 15,
     "metadata": {},
     "output_type": "execute_result"
    }
   ],
   "source": [
    "df_modified.head()"
   ]
  },
  {
   "cell_type": "markdown",
   "id": "ebd8b9fa",
   "metadata": {},
   "source": [
    "## ignore"
   ]
  },
  {
   "cell_type": "code",
   "execution_count": 8,
   "id": "4ed7050a",
   "metadata": {},
   "outputs": [],
   "source": [
    "from sklearn.model_selection import train_test_split \n",
    "from sklearn.linear_model import LinearRegression"
   ]
  },
  {
   "cell_type": "code",
   "execution_count": 9,
   "id": "8bc0ff4f",
   "metadata": {},
   "outputs": [],
   "source": [
    "from sklearn import preprocessing"
   ]
  },
  {
   "cell_type": "code",
   "execution_count": 10,
   "id": "11a9a7ec",
   "metadata": {},
   "outputs": [],
   "source": [
    "enc = preprocessing.OneHotEncoder()"
   ]
  },
  {
   "cell_type": "code",
   "execution_count": 12,
   "id": "62c75661",
   "metadata": {},
   "outputs": [],
   "source": [
    "df = pd.DataFrame({'Category': ['Breakfast','Lunch','Dinner']})\n",
    "df_modified=pd.get_dummies(df_modified)"
   ]
  },
  {
   "cell_type": "code",
   "execution_count": 13,
   "id": "d2c1b832",
   "metadata": {},
   "outputs": [
    {
     "data": {
      "text/html": [
       "<div>\n",
       "<style scoped>\n",
       "    .dataframe tbody tr th:only-of-type {\n",
       "        vertical-align: middle;\n",
       "    }\n",
       "\n",
       "    .dataframe tbody tr th {\n",
       "        vertical-align: top;\n",
       "    }\n",
       "\n",
       "    .dataframe thead th {\n",
       "        text-align: right;\n",
       "    }\n",
       "</style>\n",
       "<table border=\"1\" class=\"dataframe\">\n",
       "  <thead>\n",
       "    <tr style=\"text-align: right;\">\n",
       "      <th></th>\n",
       "      <th>Carbs</th>\n",
       "      <th>BG</th>\n",
       "      <th>BG after 2hrs</th>\n",
       "      <th>Insulin</th>\n",
       "      <th>Category_Breakfast</th>\n",
       "      <th>Category_Dinner</th>\n",
       "      <th>Category_Lunch</th>\n",
       "    </tr>\n",
       "  </thead>\n",
       "  <tbody>\n",
       "    <tr>\n",
       "      <th>0</th>\n",
       "      <td>60.90</td>\n",
       "      <td>325</td>\n",
       "      <td>334</td>\n",
       "      <td>5.5</td>\n",
       "      <td>1</td>\n",
       "      <td>0</td>\n",
       "      <td>0</td>\n",
       "    </tr>\n",
       "    <tr>\n",
       "      <th>1</th>\n",
       "      <td>33.40</td>\n",
       "      <td>231</td>\n",
       "      <td>246</td>\n",
       "      <td>4.0</td>\n",
       "      <td>1</td>\n",
       "      <td>0</td>\n",
       "      <td>0</td>\n",
       "    </tr>\n",
       "    <tr>\n",
       "      <th>2</th>\n",
       "      <td>46.75</td>\n",
       "      <td>194</td>\n",
       "      <td>313</td>\n",
       "      <td>4.0</td>\n",
       "      <td>1</td>\n",
       "      <td>0</td>\n",
       "      <td>0</td>\n",
       "    </tr>\n",
       "    <tr>\n",
       "      <th>3</th>\n",
       "      <td>102.00</td>\n",
       "      <td>107</td>\n",
       "      <td>145</td>\n",
       "      <td>4.0</td>\n",
       "      <td>1</td>\n",
       "      <td>0</td>\n",
       "      <td>0</td>\n",
       "    </tr>\n",
       "    <tr>\n",
       "      <th>4</th>\n",
       "      <td>80.30</td>\n",
       "      <td>209</td>\n",
       "      <td>126</td>\n",
       "      <td>5.0</td>\n",
       "      <td>1</td>\n",
       "      <td>0</td>\n",
       "      <td>0</td>\n",
       "    </tr>\n",
       "  </tbody>\n",
       "</table>\n",
       "</div>"
      ],
      "text/plain": [
       "    Carbs   BG  BG after 2hrs  Insulin  Category_Breakfast  Category_Dinner  \\\n",
       "0   60.90  325            334      5.5                   1                0   \n",
       "1   33.40  231            246      4.0                   1                0   \n",
       "2   46.75  194            313      4.0                   1                0   \n",
       "3  102.00  107            145      4.0                   1                0   \n",
       "4   80.30  209            126      5.0                   1                0   \n",
       "\n",
       "   Category_Lunch  \n",
       "0               0  \n",
       "1               0  \n",
       "2               0  \n",
       "3               0  \n",
       "4               0  "
      ]
     },
     "execution_count": 13,
     "metadata": {},
     "output_type": "execute_result"
    }
   ],
   "source": [
    "df_modified.head()"
   ]
  },
  {
   "cell_type": "code",
   "execution_count": 15,
   "id": "42a993b8",
   "metadata": {},
   "outputs": [],
   "source": [
    "df_modified['Difference BG']=df_modified['BG']-df_modified['BG after 2hrs']"
   ]
  },
  {
   "cell_type": "code",
   "execution_count": 18,
   "id": "70c8353c",
   "metadata": {},
   "outputs": [
    {
     "data": {
      "text/html": [
       "<div>\n",
       "<style scoped>\n",
       "    .dataframe tbody tr th:only-of-type {\n",
       "        vertical-align: middle;\n",
       "    }\n",
       "\n",
       "    .dataframe tbody tr th {\n",
       "        vertical-align: top;\n",
       "    }\n",
       "\n",
       "    .dataframe thead th {\n",
       "        text-align: right;\n",
       "    }\n",
       "</style>\n",
       "<table border=\"1\" class=\"dataframe\">\n",
       "  <thead>\n",
       "    <tr style=\"text-align: right;\">\n",
       "      <th></th>\n",
       "      <th>Carbs</th>\n",
       "      <th>Insulin</th>\n",
       "      <th>Category_Breakfast</th>\n",
       "      <th>Category_Dinner</th>\n",
       "      <th>Category_Lunch</th>\n",
       "      <th>Difference BG</th>\n",
       "    </tr>\n",
       "  </thead>\n",
       "  <tbody>\n",
       "    <tr>\n",
       "      <th>0</th>\n",
       "      <td>60.90</td>\n",
       "      <td>5.5</td>\n",
       "      <td>1</td>\n",
       "      <td>0</td>\n",
       "      <td>0</td>\n",
       "      <td>-9</td>\n",
       "    </tr>\n",
       "    <tr>\n",
       "      <th>1</th>\n",
       "      <td>33.40</td>\n",
       "      <td>4.0</td>\n",
       "      <td>1</td>\n",
       "      <td>0</td>\n",
       "      <td>0</td>\n",
       "      <td>-15</td>\n",
       "    </tr>\n",
       "    <tr>\n",
       "      <th>2</th>\n",
       "      <td>46.75</td>\n",
       "      <td>4.0</td>\n",
       "      <td>1</td>\n",
       "      <td>0</td>\n",
       "      <td>0</td>\n",
       "      <td>-119</td>\n",
       "    </tr>\n",
       "    <tr>\n",
       "      <th>3</th>\n",
       "      <td>102.00</td>\n",
       "      <td>4.0</td>\n",
       "      <td>1</td>\n",
       "      <td>0</td>\n",
       "      <td>0</td>\n",
       "      <td>-38</td>\n",
       "    </tr>\n",
       "    <tr>\n",
       "      <th>4</th>\n",
       "      <td>80.30</td>\n",
       "      <td>5.0</td>\n",
       "      <td>1</td>\n",
       "      <td>0</td>\n",
       "      <td>0</td>\n",
       "      <td>83</td>\n",
       "    </tr>\n",
       "  </tbody>\n",
       "</table>\n",
       "</div>"
      ],
      "text/plain": [
       "    Carbs  Insulin  Category_Breakfast  Category_Dinner  Category_Lunch  \\\n",
       "0   60.90      5.5                   1                0               0   \n",
       "1   33.40      4.0                   1                0               0   \n",
       "2   46.75      4.0                   1                0               0   \n",
       "3  102.00      4.0                   1                0               0   \n",
       "4   80.30      5.0                   1                0               0   \n",
       "\n",
       "   Difference BG  \n",
       "0             -9  \n",
       "1            -15  \n",
       "2           -119  \n",
       "3            -38  \n",
       "4             83  "
      ]
     },
     "execution_count": 18,
     "metadata": {},
     "output_type": "execute_result"
    }
   ],
   "source": [
    "df_modified.head()"
   ]
  },
  {
   "cell_type": "code",
   "execution_count": 17,
   "id": "940dc816",
   "metadata": {},
   "outputs": [],
   "source": [
    "del df_modified['BG']\n",
    "del df_modified['BG after 2hrs']"
   ]
  },
  {
   "cell_type": "markdown",
   "id": "1ee28ade",
   "metadata": {},
   "source": [
    "## end of ignore"
   ]
  },
  {
   "cell_type": "markdown",
   "id": "25e3a223",
   "metadata": {},
   "source": [
    "## Breakfast"
   ]
  },
  {
   "cell_type": "code",
   "execution_count": 24,
   "id": "c1d5107f",
   "metadata": {},
   "outputs": [],
   "source": [
    "df_breakfast=df_modified[df_modified.Category == 'Breakfast']"
   ]
  },
  {
   "cell_type": "code",
   "execution_count": 25,
   "id": "90d95d9d",
   "metadata": {},
   "outputs": [],
   "source": [
    "df_breakfast = df_breakfast[df_breakfast['Carbs'] >10]"
   ]
  },
  {
   "cell_type": "code",
   "execution_count": 26,
   "id": "2ea77f4a",
   "metadata": {},
   "outputs": [],
   "source": [
    "df_breakfast = df_breakfast[df_breakfast['Carbs'] <70]"
   ]
  },
  {
   "cell_type": "code",
   "execution_count": 27,
   "id": "80daa4fa",
   "metadata": {},
   "outputs": [
    {
     "data": {
      "text/html": [
       "<div>\n",
       "<style scoped>\n",
       "    .dataframe tbody tr th:only-of-type {\n",
       "        vertical-align: middle;\n",
       "    }\n",
       "\n",
       "    .dataframe tbody tr th {\n",
       "        vertical-align: top;\n",
       "    }\n",
       "\n",
       "    .dataframe thead th {\n",
       "        text-align: right;\n",
       "    }\n",
       "</style>\n",
       "<table border=\"1\" class=\"dataframe\">\n",
       "  <thead>\n",
       "    <tr style=\"text-align: right;\">\n",
       "      <th></th>\n",
       "      <th>Carbs</th>\n",
       "      <th>Category</th>\n",
       "      <th>BG</th>\n",
       "      <th>BG after 2hrs</th>\n",
       "      <th>Insulin</th>\n",
       "    </tr>\n",
       "  </thead>\n",
       "  <tbody>\n",
       "    <tr>\n",
       "      <th>0</th>\n",
       "      <td>60.90</td>\n",
       "      <td>Breakfast</td>\n",
       "      <td>325</td>\n",
       "      <td>334</td>\n",
       "      <td>5.5</td>\n",
       "    </tr>\n",
       "    <tr>\n",
       "      <th>1</th>\n",
       "      <td>33.40</td>\n",
       "      <td>Breakfast</td>\n",
       "      <td>231</td>\n",
       "      <td>246</td>\n",
       "      <td>4.0</td>\n",
       "    </tr>\n",
       "    <tr>\n",
       "      <th>2</th>\n",
       "      <td>46.75</td>\n",
       "      <td>Breakfast</td>\n",
       "      <td>194</td>\n",
       "      <td>313</td>\n",
       "      <td>4.0</td>\n",
       "    </tr>\n",
       "    <tr>\n",
       "      <th>5</th>\n",
       "      <td>67.12</td>\n",
       "      <td>Breakfast</td>\n",
       "      <td>141</td>\n",
       "      <td>119</td>\n",
       "      <td>4.5</td>\n",
       "    </tr>\n",
       "    <tr>\n",
       "      <th>6</th>\n",
       "      <td>49.06</td>\n",
       "      <td>Breakfast</td>\n",
       "      <td>200</td>\n",
       "      <td>285</td>\n",
       "      <td>4.5</td>\n",
       "    </tr>\n",
       "  </tbody>\n",
       "</table>\n",
       "</div>"
      ],
      "text/plain": [
       "   Carbs   Category   BG  BG after 2hrs  Insulin\n",
       "0  60.90  Breakfast  325            334      5.5\n",
       "1  33.40  Breakfast  231            246      4.0\n",
       "2  46.75  Breakfast  194            313      4.0\n",
       "5  67.12  Breakfast  141            119      4.5\n",
       "6  49.06  Breakfast  200            285      4.5"
      ]
     },
     "execution_count": 27,
     "metadata": {},
     "output_type": "execute_result"
    }
   ],
   "source": [
    "df_breakfast.head()"
   ]
  },
  {
   "cell_type": "code",
   "execution_count": 28,
   "id": "85d95f1d",
   "metadata": {},
   "outputs": [],
   "source": [
    "from sklearn.model_selection import train_test_split\n",
    "from sklearn.linear_model import LinearRegression"
   ]
  },
  {
   "cell_type": "code",
   "execution_count": 29,
   "id": "14626c17",
   "metadata": {},
   "outputs": [],
   "source": [
    "y=df_breakfast['BG after 2hrs']\n",
    "\n",
    "del df_breakfast['BG after 2hrs']"
   ]
  },
  {
   "cell_type": "code",
   "execution_count": 30,
   "id": "67432e3c",
   "metadata": {},
   "outputs": [],
   "source": [
    "del df_breakfast['Category']"
   ]
  },
  {
   "cell_type": "code",
   "execution_count": 41,
   "id": "39541ed7",
   "metadata": {},
   "outputs": [],
   "source": [
    "xTrain, xTest, yTrain, yTest = train_test_split(df_breakfast, y, test_size = 0.2, random_state = 89)"
   ]
  },
  {
   "cell_type": "code",
   "execution_count": 42,
   "id": "b5d73325",
   "metadata": {},
   "outputs": [],
   "source": [
    "from sklearn import preprocessing\n",
    "mm_scaler = preprocessing.MinMaxScaler()\n",
    "X_train_minmax = mm_scaler.fit_transform(xTrain)\n",
    "X_testmin=mm_scaler.transform(xTest)"
   ]
  },
  {
   "cell_type": "code",
   "execution_count": 43,
   "id": "e226c2f1",
   "metadata": {},
   "outputs": [],
   "source": [
    "linearRegressor = LinearRegression()"
   ]
  },
  {
   "cell_type": "code",
   "execution_count": 44,
   "id": "729b74d6",
   "metadata": {},
   "outputs": [
    {
     "data": {
      "text/plain": [
       "LinearRegression()"
      ]
     },
     "execution_count": 44,
     "metadata": {},
     "output_type": "execute_result"
    }
   ],
   "source": [
    "linearRegressor.fit(X_train_minmax, yTrain)"
   ]
  },
  {
   "cell_type": "code",
   "execution_count": 45,
   "id": "794dfc70",
   "metadata": {},
   "outputs": [
    {
     "data": {
      "text/plain": [
       "0.5935294350556346"
      ]
     },
     "execution_count": 45,
     "metadata": {},
     "output_type": "execute_result"
    }
   ],
   "source": [
    "linearRegressor.score(X_testmin,yTest)"
   ]
  },
  {
   "cell_type": "code",
   "execution_count": 46,
   "id": "9e09af2d",
   "metadata": {},
   "outputs": [
    {
     "data": {
      "text/plain": [
       "array([  20.81982534,  266.20368774, -119.17815679])"
      ]
     },
     "execution_count": 46,
     "metadata": {},
     "output_type": "execute_result"
    }
   ],
   "source": [
    "linearRegressor.coef_"
   ]
  },
  {
   "cell_type": "markdown",
   "id": "088e7f37",
   "metadata": {},
   "source": [
    "## Lunch"
   ]
  },
  {
   "cell_type": "code",
   "execution_count": 47,
   "id": "3e5a23d9",
   "metadata": {},
   "outputs": [],
   "source": [
    "df_lunch=df_modified[df_modified.Category == 'Lunch']"
   ]
  },
  {
   "cell_type": "code",
   "execution_count": 48,
   "id": "e15f66b9",
   "metadata": {},
   "outputs": [],
   "source": [
    "df_lunch = df_lunch[df_lunch['Carbs'] >10]"
   ]
  },
  {
   "cell_type": "code",
   "execution_count": 49,
   "id": "dd32ec2d",
   "metadata": {},
   "outputs": [],
   "source": [
    "df_lunch = df_lunch[df_lunch['Carbs'] <70]"
   ]
  },
  {
   "cell_type": "code",
   "execution_count": 50,
   "id": "9ceb0279",
   "metadata": {},
   "outputs": [
    {
     "data": {
      "text/html": [
       "<div>\n",
       "<style scoped>\n",
       "    .dataframe tbody tr th:only-of-type {\n",
       "        vertical-align: middle;\n",
       "    }\n",
       "\n",
       "    .dataframe tbody tr th {\n",
       "        vertical-align: top;\n",
       "    }\n",
       "\n",
       "    .dataframe thead th {\n",
       "        text-align: right;\n",
       "    }\n",
       "</style>\n",
       "<table border=\"1\" class=\"dataframe\">\n",
       "  <thead>\n",
       "    <tr style=\"text-align: right;\">\n",
       "      <th></th>\n",
       "      <th>Carbs</th>\n",
       "      <th>Category</th>\n",
       "      <th>BG</th>\n",
       "      <th>BG after 2hrs</th>\n",
       "      <th>Insulin</th>\n",
       "    </tr>\n",
       "  </thead>\n",
       "  <tbody>\n",
       "    <tr>\n",
       "      <th>88</th>\n",
       "      <td>10.80</td>\n",
       "      <td>Lunch</td>\n",
       "      <td>195</td>\n",
       "      <td>166</td>\n",
       "      <td>5.5</td>\n",
       "    </tr>\n",
       "    <tr>\n",
       "      <th>91</th>\n",
       "      <td>42.62</td>\n",
       "      <td>Lunch</td>\n",
       "      <td>119</td>\n",
       "      <td>196</td>\n",
       "      <td>5.0</td>\n",
       "    </tr>\n",
       "    <tr>\n",
       "      <th>92</th>\n",
       "      <td>54.30</td>\n",
       "      <td>Lunch</td>\n",
       "      <td>212</td>\n",
       "      <td>186</td>\n",
       "      <td>5.5</td>\n",
       "    </tr>\n",
       "    <tr>\n",
       "      <th>93</th>\n",
       "      <td>21.50</td>\n",
       "      <td>Lunch</td>\n",
       "      <td>80</td>\n",
       "      <td>162</td>\n",
       "      <td>4.0</td>\n",
       "    </tr>\n",
       "    <tr>\n",
       "      <th>94</th>\n",
       "      <td>24.80</td>\n",
       "      <td>Lunch</td>\n",
       "      <td>163</td>\n",
       "      <td>187</td>\n",
       "      <td>5.0</td>\n",
       "    </tr>\n",
       "  </tbody>\n",
       "</table>\n",
       "</div>"
      ],
      "text/plain": [
       "    Carbs Category   BG  BG after 2hrs  Insulin\n",
       "88  10.80    Lunch  195            166      5.5\n",
       "91  42.62    Lunch  119            196      5.0\n",
       "92  54.30    Lunch  212            186      5.5\n",
       "93  21.50    Lunch   80            162      4.0\n",
       "94  24.80    Lunch  163            187      5.0"
      ]
     },
     "execution_count": 50,
     "metadata": {},
     "output_type": "execute_result"
    }
   ],
   "source": [
    "df_lunch.head()"
   ]
  },
  {
   "cell_type": "code",
   "execution_count": 51,
   "id": "4297b1aa",
   "metadata": {},
   "outputs": [],
   "source": [
    "from sklearn.model_selection import train_test_split\n",
    "from sklearn.linear_model import LinearRegression"
   ]
  },
  {
   "cell_type": "code",
   "execution_count": 52,
   "id": "ef6771f9",
   "metadata": {},
   "outputs": [],
   "source": [
    "y=df_lunch['BG after 2hrs']\n",
    "\n",
    "del df_lunch['BG after 2hrs']"
   ]
  },
  {
   "cell_type": "code",
   "execution_count": 53,
   "id": "c4ecd375",
   "metadata": {},
   "outputs": [],
   "source": [
    "del df_lunch['Category']"
   ]
  },
  {
   "cell_type": "code",
   "execution_count": 70,
   "id": "952a01f3",
   "metadata": {},
   "outputs": [],
   "source": [
    "xTrain, xTest, yTrain, yTest = train_test_split(df_lunch, y, test_size = 0.2, random_state = 11)"
   ]
  },
  {
   "cell_type": "code",
   "execution_count": 71,
   "id": "01bcbbdb",
   "metadata": {},
   "outputs": [],
   "source": [
    "from sklearn import preprocessing\n",
    "mm_scaler = preprocessing.MinMaxScaler()\n",
    "X_train_minmax = mm_scaler.fit_transform(xTrain)\n",
    "X_testmin=mm_scaler.transform(xTest)"
   ]
  },
  {
   "cell_type": "code",
   "execution_count": 72,
   "id": "d1f57bc7",
   "metadata": {},
   "outputs": [],
   "source": [
    "linearRegressor = LinearRegression()"
   ]
  },
  {
   "cell_type": "code",
   "execution_count": 73,
   "id": "70d83962",
   "metadata": {},
   "outputs": [
    {
     "data": {
      "text/plain": [
       "LinearRegression()"
      ]
     },
     "execution_count": 73,
     "metadata": {},
     "output_type": "execute_result"
    }
   ],
   "source": [
    "linearRegressor.fit(X_train_minmax, yTrain)"
   ]
  },
  {
   "cell_type": "code",
   "execution_count": 74,
   "id": "16321feb",
   "metadata": {},
   "outputs": [
    {
     "data": {
      "text/plain": [
       "0.5841436848242192"
      ]
     },
     "execution_count": 74,
     "metadata": {},
     "output_type": "execute_result"
    }
   ],
   "source": [
    "linearRegressor.score(X_testmin,yTest)"
   ]
  },
  {
   "cell_type": "code",
   "execution_count": 75,
   "id": "a2d7a3aa",
   "metadata": {},
   "outputs": [
    {
     "data": {
      "text/plain": [
       "array([ -8.59781717, 205.52634885,   5.46532327])"
      ]
     },
     "execution_count": 75,
     "metadata": {},
     "output_type": "execute_result"
    }
   ],
   "source": [
    "linearRegressor.coef_"
   ]
  },
  {
   "cell_type": "markdown",
   "id": "3404af62",
   "metadata": {},
   "source": [
    "## Dinner"
   ]
  },
  {
   "cell_type": "code",
   "execution_count": 16,
   "id": "448fcf4e",
   "metadata": {},
   "outputs": [],
   "source": [
    "df_dinner=df_modified[df_modified.Category == 'Dinner']"
   ]
  },
  {
   "cell_type": "code",
   "execution_count": 17,
   "id": "96f1e20a",
   "metadata": {},
   "outputs": [],
   "source": [
    "df_dinner = df_dinner[df_dinner['Carbs'] >10]"
   ]
  },
  {
   "cell_type": "code",
   "execution_count": 18,
   "id": "ab5ab58d",
   "metadata": {},
   "outputs": [],
   "source": [
    "df_dinner = df_dinner[df_dinner['Carbs'] <70]"
   ]
  },
  {
   "cell_type": "code",
   "execution_count": 19,
   "id": "8aa84277",
   "metadata": {},
   "outputs": [
    {
     "data": {
      "text/html": [
       "<div>\n",
       "<style scoped>\n",
       "    .dataframe tbody tr th:only-of-type {\n",
       "        vertical-align: middle;\n",
       "    }\n",
       "\n",
       "    .dataframe tbody tr th {\n",
       "        vertical-align: top;\n",
       "    }\n",
       "\n",
       "    .dataframe thead th {\n",
       "        text-align: right;\n",
       "    }\n",
       "</style>\n",
       "<table border=\"1\" class=\"dataframe\">\n",
       "  <thead>\n",
       "    <tr style=\"text-align: right;\">\n",
       "      <th></th>\n",
       "      <th>Carbs</th>\n",
       "      <th>Category</th>\n",
       "      <th>BG</th>\n",
       "      <th>BG after 2hrs</th>\n",
       "      <th>Insulin</th>\n",
       "    </tr>\n",
       "  </thead>\n",
       "  <tbody>\n",
       "    <tr>\n",
       "      <th>178</th>\n",
       "      <td>50.32</td>\n",
       "      <td>Dinner</td>\n",
       "      <td>79</td>\n",
       "      <td>54</td>\n",
       "      <td>4.5</td>\n",
       "    </tr>\n",
       "    <tr>\n",
       "      <th>180</th>\n",
       "      <td>44.85</td>\n",
       "      <td>Dinner</td>\n",
       "      <td>65</td>\n",
       "      <td>53</td>\n",
       "      <td>2.0</td>\n",
       "    </tr>\n",
       "    <tr>\n",
       "      <th>181</th>\n",
       "      <td>15.60</td>\n",
       "      <td>Dinner</td>\n",
       "      <td>134</td>\n",
       "      <td>103</td>\n",
       "      <td>3.5</td>\n",
       "    </tr>\n",
       "    <tr>\n",
       "      <th>182</th>\n",
       "      <td>44.85</td>\n",
       "      <td>Dinner</td>\n",
       "      <td>117</td>\n",
       "      <td>78</td>\n",
       "      <td>2.0</td>\n",
       "    </tr>\n",
       "    <tr>\n",
       "      <th>183</th>\n",
       "      <td>21.30</td>\n",
       "      <td>Dinner</td>\n",
       "      <td>67</td>\n",
       "      <td>122</td>\n",
       "      <td>3.0</td>\n",
       "    </tr>\n",
       "  </tbody>\n",
       "</table>\n",
       "</div>"
      ],
      "text/plain": [
       "     Carbs Category   BG  BG after 2hrs  Insulin\n",
       "178  50.32   Dinner   79             54      4.5\n",
       "180  44.85   Dinner   65             53      2.0\n",
       "181  15.60   Dinner  134            103      3.5\n",
       "182  44.85   Dinner  117             78      2.0\n",
       "183  21.30   Dinner   67            122      3.0"
      ]
     },
     "execution_count": 19,
     "metadata": {},
     "output_type": "execute_result"
    }
   ],
   "source": [
    "df_dinner.head()"
   ]
  },
  {
   "cell_type": "code",
   "execution_count": 20,
   "id": "6cf99771",
   "metadata": {},
   "outputs": [],
   "source": [
    "from sklearn.model_selection import train_test_split\n",
    "from sklearn.linear_model import LinearRegression"
   ]
  },
  {
   "cell_type": "code",
   "execution_count": 21,
   "id": "f2804936",
   "metadata": {},
   "outputs": [],
   "source": [
    "y=df_dinner['BG after 2hrs']\n",
    "\n",
    "del df_dinner['BG after 2hrs']"
   ]
  },
  {
   "cell_type": "code",
   "execution_count": 22,
   "id": "5c30fb74",
   "metadata": {},
   "outputs": [],
   "source": [
    "del df_dinner['Category']"
   ]
  },
  {
   "cell_type": "code",
   "execution_count": 23,
   "id": "2a590ef0",
   "metadata": {},
   "outputs": [],
   "source": [
    "xTrain, xTest, yTrain, yTest = train_test_split(df_dinner, y, test_size = 0.2, random_state = 7)"
   ]
  },
  {
   "cell_type": "code",
   "execution_count": 24,
   "id": "e71e83d2",
   "metadata": {},
   "outputs": [],
   "source": [
    "from sklearn import preprocessing\n",
    "mm_scaler = preprocessing.MinMaxScaler()\n",
    "X_train_minmax = mm_scaler.fit_transform(xTrain)\n",
    "X_testmin=mm_scaler.transform(xTest)"
   ]
  },
  {
   "cell_type": "code",
   "execution_count": 25,
   "id": "257efd09",
   "metadata": {},
   "outputs": [],
   "source": [
    "linearRegressor = LinearRegression()"
   ]
  },
  {
   "cell_type": "code",
   "execution_count": 26,
   "id": "912eb522",
   "metadata": {},
   "outputs": [
    {
     "data": {
      "text/plain": [
       "LinearRegression()"
      ]
     },
     "execution_count": 26,
     "metadata": {},
     "output_type": "execute_result"
    }
   ],
   "source": [
    "linearRegressor.fit(X_train_minmax, yTrain)"
   ]
  },
  {
   "cell_type": "code",
   "execution_count": 27,
   "id": "757356fb",
   "metadata": {},
   "outputs": [
    {
     "data": {
      "text/plain": [
       "0.7292844432837161"
      ]
     },
     "execution_count": 27,
     "metadata": {},
     "output_type": "execute_result"
    }
   ],
   "source": [
    "linearRegressor.score(X_testmin,yTest)"
   ]
  },
  {
   "cell_type": "code",
   "execution_count": 28,
   "id": "e6968842",
   "metadata": {},
   "outputs": [
    {
     "data": {
      "text/plain": [
       "array([-39.41406816, 159.79238517, -52.20047742])"
      ]
     },
     "execution_count": 28,
     "metadata": {},
     "output_type": "execute_result"
    }
   ],
   "source": [
    "linearRegressor.coef_"
   ]
  },
  {
   "cell_type": "code",
   "execution_count": null,
   "id": "469c0482",
   "metadata": {},
   "outputs": [],
   "source": []
  }
 ],
 "metadata": {
  "kernelspec": {
   "display_name": "Python 3 (ipykernel)",
   "language": "python",
   "name": "python3"
  },
  "language_info": {
   "codemirror_mode": {
    "name": "ipython",
    "version": 3
   },
   "file_extension": ".py",
   "mimetype": "text/x-python",
   "name": "python",
   "nbconvert_exporter": "python",
   "pygments_lexer": "ipython3",
   "version": "3.9.7"
  }
 },
 "nbformat": 4,
 "nbformat_minor": 5
}
